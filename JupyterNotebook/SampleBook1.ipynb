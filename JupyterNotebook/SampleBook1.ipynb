{
 "cells": [
  {
   "cell_type": "code",
   "execution_count": 1,
   "metadata": {
    "collapsed": false
   },
   "outputs": [
    {
     "name": "stdout",
     "output_type": "stream",
     "text": [
      "__pycache__\n",
      "cameranetwork.py\n",
      "dataset.py\n",
      "evaluation.py\n",
      "main.py\n",
      "show_network.py\n",
      "user_function.py\n"
     ]
    }
   ],
   "source": [
    "%%bash\n",
    "\n",
    "ls  ../PythonSampleCodes/ClusteringSample/"
   ]
  },
  {
   "cell_type": "code",
   "execution_count": 2,
   "metadata": {
    "collapsed": false
   },
   "outputs": [
    {
     "name": "stdout",
     "output_type": "stream",
     "text": [
      "score: 30.352941\n"
     ]
    }
   ],
   "source": [
    "%%bash\n",
    "\n",
    "python  ../PythonSampleCodes/ClusteringSample/main.py  \\\n",
    "    1  ../VirtualDatasets/Level1/  result.txt"
   ]
  },
  {
   "cell_type": "code",
   "execution_count": null,
   "metadata": {
    "collapsed": true
   },
   "outputs": [],
   "source": []
  }
 ],
 "metadata": {
  "kernelspec": {
   "display_name": "Python 3",
   "language": "python",
   "name": "python3"
  },
  "language_info": {
   "codemirror_mode": {
    "name": "ipython",
    "version": 3
   },
   "file_extension": ".py",
   "mimetype": "text/x-python",
   "name": "python",
   "nbconvert_exporter": "python",
   "pygments_lexer": "ipython3",
   "version": "3.5.1"
  }
 },
 "nbformat": 4,
 "nbformat_minor": 0
}
